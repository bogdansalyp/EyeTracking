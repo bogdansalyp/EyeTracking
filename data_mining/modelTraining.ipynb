{
 "cells": [
  {
   "cell_type": "markdown",
   "metadata": {},
   "source": [
    "# First Iteration NN"
   ]
  },
  {
   "cell_type": "code",
   "execution_count": 7,
   "metadata": {},
   "outputs": [],
   "source": [
    "from keras.models import Sequential\n",
    "from keras.layers import Conv2D, MaxPooling2D\n",
    "from keras.layers import Activation, Dropout, Flatten, Dense\n",
    "from keras.preprocessing.image import ImageDataGenerator, array_to_img, img_to_array, load_img"
   ]
  },
  {
   "cell_type": "code",
   "execution_count": 16,
   "metadata": {},
   "outputs": [
    {
     "name": "stdout",
     "output_type": "stream",
     "text": [
      "WARNING:tensorflow:From /usr/local/lib/python3.7/site-packages/keras/backend/tensorflow_backend.py:3445: calling dropout (from tensorflow.python.ops.nn_ops) with keep_prob is deprecated and will be removed in a future version.\n",
      "Instructions for updating:\n",
      "Please use `rate` instead of `keep_prob`. Rate should be set to `rate = 1 - keep_prob`.\n"
     ]
    }
   ],
   "source": [
    "model = Sequential()\n",
    "model.add(Conv2D(32, (3, 3), input_shape=(150, 150, 3)))\n",
    "model.add(Activation('relu'))\n",
    "model.add(MaxPooling2D(pool_size=(2, 2)))\n",
    "\n",
    "model.add(Conv2D(32, (3, 3)))\n",
    "model.add(Activation('relu'))\n",
    "model.add(MaxPooling2D(pool_size=(2, 2)))\n",
    "\n",
    "model.add(Conv2D(64, (3, 3)))\n",
    "model.add(Activation('relu'))\n",
    "model.add(MaxPooling2D(pool_size=(2, 2)))\n",
    "\n",
    "model.add(Flatten())  # this converts our 3D feature maps to 1D feature vectors\n",
    "model.add(Dense(64))\n",
    "model.add(Activation('relu'))\n",
    "model.add(Dropout(0.5))\n",
    "model.add(Dense(1))\n",
    "model.add(Activation('sigmoid'))"
   ]
  },
  {
   "cell_type": "code",
   "execution_count": 17,
   "metadata": {},
   "outputs": [
    {
     "name": "stdout",
     "output_type": "stream",
     "text": [
      "_________________________________________________________________\n",
      "Layer (type)                 Output Shape              Param #   \n",
      "=================================================================\n",
      "conv2d_5 (Conv2D)            (None, 148, 148, 32)      896       \n",
      "_________________________________________________________________\n",
      "activation_5 (Activation)    (None, 148, 148, 32)      0         \n",
      "_________________________________________________________________\n",
      "max_pooling2d_5 (MaxPooling2 (None, 74, 74, 32)        0         \n",
      "_________________________________________________________________\n",
      "conv2d_6 (Conv2D)            (None, 72, 72, 32)        9248      \n",
      "_________________________________________________________________\n",
      "activation_6 (Activation)    (None, 72, 72, 32)        0         \n",
      "_________________________________________________________________\n",
      "max_pooling2d_6 (MaxPooling2 (None, 36, 36, 32)        0         \n",
      "_________________________________________________________________\n",
      "conv2d_7 (Conv2D)            (None, 34, 34, 64)        18496     \n",
      "_________________________________________________________________\n",
      "activation_7 (Activation)    (None, 34, 34, 64)        0         \n",
      "_________________________________________________________________\n",
      "max_pooling2d_7 (MaxPooling2 (None, 17, 17, 64)        0         \n",
      "_________________________________________________________________\n",
      "flatten_1 (Flatten)          (None, 18496)             0         \n",
      "_________________________________________________________________\n",
      "dense_1 (Dense)              (None, 64)                1183808   \n",
      "_________________________________________________________________\n",
      "activation_8 (Activation)    (None, 64)                0         \n",
      "_________________________________________________________________\n",
      "dropout_1 (Dropout)          (None, 64)                0         \n",
      "_________________________________________________________________\n",
      "dense_2 (Dense)              (None, 1)                 65        \n",
      "_________________________________________________________________\n",
      "activation_9 (Activation)    (None, 1)                 0         \n",
      "=================================================================\n",
      "Total params: 1,212,513\n",
      "Trainable params: 1,212,513\n",
      "Non-trainable params: 0\n",
      "_________________________________________________________________\n"
     ]
    }
   ],
   "source": [
    "model.summary()"
   ]
  },
  {
   "cell_type": "code",
   "execution_count": 18,
   "metadata": {},
   "outputs": [],
   "source": [
    "model.compile(loss='binary_crossentropy',\n",
    "              optimizer='rmsprop',\n",
    "              metrics=['accuracy'])"
   ]
  },
  {
   "cell_type": "code",
   "execution_count": 31,
   "metadata": {},
   "outputs": [
    {
     "name": "stdout",
     "output_type": "stream",
     "text": [
      "Found 5746 images belonging to 2 classes.\n",
      "Found 108 images belonging to 2 classes.\n"
     ]
    }
   ],
   "source": [
    "# this is the augmentation configuration we will use for training\n",
    "train_datagen = ImageDataGenerator(\n",
    "        rescale=1./255,\n",
    "        shear_range=0.2,\n",
    "        zoom_range=0.2,\n",
    "        horizontal_flip=True)\n",
    "\n",
    "# this is the augmentation configuration we will use for testing:\n",
    "# only rescaling\n",
    "test_datagen = ImageDataGenerator(rescale=1./255)\n",
    "\n",
    "# this is a generator that will read pictures found in\n",
    "# subfolers of 'data/train', and indefinitely generate\n",
    "# batches of augmented image data\n",
    "train_generator = train_datagen.flow_from_directory(\n",
    "        'preprocessedData/',  # this is the target directory\n",
    "        target_size=(150, 150),  # all images will be resized to 150x150\n",
    "        batch_size=batch_size,\n",
    "        class_mode='binary')  # since we use binary_crossentropy loss, we need binary labels\n",
    "\n",
    "# this is a similar generator, for validation data\n",
    "validation_generator = test_datagen.flow_from_directory(\n",
    "        'valData/',\n",
    "        target_size=(150, 150),\n",
    "        batch_size=batch_size,\n",
    "        class_mode='binary')"
   ]
  },
  {
   "cell_type": "code",
   "execution_count": 30,
   "metadata": {},
   "outputs": [
    {
     "name": "stdout",
     "output_type": "stream",
     "text": [
      "Epoch 1/50\n",
      "125/125 [==============================] - 51s 410ms/step - loss: 0.2969 - acc: 0.8745 - val_loss: 0.2962 - val_acc: 0.8601\n",
      "Epoch 2/50\n",
      "125/125 [==============================] - 49s 391ms/step - loss: 0.3039 - acc: 0.8655 - val_loss: 0.2677 - val_acc: 0.8964\n",
      "Epoch 3/50\n",
      "125/125 [==============================] - 42s 335ms/step - loss: 0.2938 - acc: 0.8713 - val_loss: 0.2885 - val_acc: 0.8964\n",
      "Epoch 4/50\n",
      "125/125 [==============================] - 42s 340ms/step - loss: 0.2944 - acc: 0.8810 - val_loss: 0.2376 - val_acc: 0.9054\n",
      "Epoch 5/50\n",
      "125/125 [==============================] - 44s 356ms/step - loss: 0.2867 - acc: 0.8725 - val_loss: 0.3094 - val_acc: 0.9080\n",
      "Epoch 6/50\n",
      "125/125 [==============================] - 43s 342ms/step - loss: 0.2998 - acc: 0.8693 - val_loss: 0.2688 - val_acc: 0.8692\n",
      "Epoch 7/50\n",
      "125/125 [==============================] - 43s 341ms/step - loss: 0.3018 - acc: 0.8695 - val_loss: 0.2776 - val_acc: 0.8698\n",
      "Epoch 8/50\n",
      "125/125 [==============================] - 42s 333ms/step - loss: 0.2829 - acc: 0.8875 - val_loss: 0.2770 - val_acc: 0.8705\n",
      "Epoch 9/50\n",
      "125/125 [==============================] - 42s 339ms/step - loss: 0.3025 - acc: 0.8688 - val_loss: 0.2662 - val_acc: 0.8899\n",
      "Epoch 10/50\n",
      "125/125 [==============================] - 43s 343ms/step - loss: 0.2883 - acc: 0.8840 - val_loss: 0.2594 - val_acc: 0.8821\n",
      "Epoch 11/50\n",
      "125/125 [==============================] - 44s 355ms/step - loss: 0.2743 - acc: 0.8878 - val_loss: 0.3174 - val_acc: 0.8588\n",
      "Epoch 12/50\n",
      "125/125 [==============================] - 44s 349ms/step - loss: 0.2771 - acc: 0.8940 - val_loss: 0.2886 - val_acc: 0.8834\n",
      "Epoch 13/50\n",
      "125/125 [==============================] - 44s 355ms/step - loss: 0.2880 - acc: 0.8840 - val_loss: 0.2711 - val_acc: 0.8899\n",
      "Epoch 14/50\n",
      "125/125 [==============================] - 42s 335ms/step - loss: 0.2771 - acc: 0.8820 - val_loss: 0.2514 - val_acc: 0.8880\n",
      "Epoch 15/50\n",
      "125/125 [==============================] - 44s 353ms/step - loss: 0.2830 - acc: 0.8830 - val_loss: 0.2654 - val_acc: 0.9003\n",
      "Epoch 16/50\n",
      "125/125 [==============================] - 42s 337ms/step - loss: 0.2689 - acc: 0.8900 - val_loss: 0.2822 - val_acc: 0.8627\n",
      "Epoch 17/50\n",
      "125/125 [==============================] - 46s 365ms/step - loss: 0.2821 - acc: 0.8808 - val_loss: 0.2441 - val_acc: 0.8951\n",
      "Epoch 18/50\n",
      "125/125 [==============================] - 45s 363ms/step - loss: 0.2649 - acc: 0.8920 - val_loss: 0.2544 - val_acc: 0.8964\n",
      "Epoch 19/50\n",
      "125/125 [==============================] - 43s 340ms/step - loss: 0.2820 - acc: 0.8845 - val_loss: 0.3128 - val_acc: 0.8627\n",
      "Epoch 20/50\n",
      "125/125 [==============================] - 43s 348ms/step - loss: 0.2555 - acc: 0.8925 - val_loss: 0.3109 - val_acc: 0.9184\n",
      "Epoch 21/50\n",
      "125/125 [==============================] - 44s 351ms/step - loss: 0.2715 - acc: 0.8890 - val_loss: 0.2231 - val_acc: 0.8906\n",
      "Epoch 22/50\n",
      "125/125 [==============================] - 45s 358ms/step - loss: 0.2824 - acc: 0.8825 - val_loss: 0.2611 - val_acc: 0.8692\n",
      "Epoch 23/50\n",
      "125/125 [==============================] - 45s 361ms/step - loss: 0.2789 - acc: 0.8835 - val_loss: 0.2274 - val_acc: 0.9106\n",
      "Epoch 24/50\n",
      "125/125 [==============================] - 45s 357ms/step - loss: 0.2618 - acc: 0.8940 - val_loss: 0.2339 - val_acc: 0.9067\n",
      "Epoch 25/50\n",
      "125/125 [==============================] - 43s 346ms/step - loss: 0.2582 - acc: 0.8930 - val_loss: 0.2386 - val_acc: 0.9028\n",
      "Epoch 26/50\n",
      "125/125 [==============================] - 41s 328ms/step - loss: 0.2681 - acc: 0.8920 - val_loss: 0.2265 - val_acc: 0.9365\n",
      "Epoch 27/50\n",
      "125/125 [==============================] - 48s 387ms/step - loss: 0.2460 - acc: 0.8995 - val_loss: 0.2277 - val_acc: 0.9093\n",
      "Epoch 28/50\n",
      "125/125 [==============================] - 45s 362ms/step - loss: 0.2740 - acc: 0.8856 - val_loss: 0.2590 - val_acc: 0.8880\n",
      "Epoch 29/50\n",
      "125/125 [==============================] - 43s 348ms/step - loss: 0.2618 - acc: 0.8890 - val_loss: 0.2302 - val_acc: 0.9184\n",
      "Epoch 30/50\n",
      "125/125 [==============================] - 42s 334ms/step - loss: 0.2590 - acc: 0.8970 - val_loss: 0.2206 - val_acc: 0.9145\n",
      "Epoch 31/50\n",
      "125/125 [==============================] - 44s 355ms/step - loss: 0.2614 - acc: 0.8935 - val_loss: 0.2587 - val_acc: 0.9067\n",
      "Epoch 32/50\n",
      "125/125 [==============================] - 45s 358ms/step - loss: 0.2635 - acc: 0.8920 - val_loss: 0.2308 - val_acc: 0.9028\n",
      "Epoch 33/50\n",
      "125/125 [==============================] - 42s 338ms/step - loss: 0.2740 - acc: 0.8920 - val_loss: 0.2441 - val_acc: 0.8977\n",
      "Epoch 34/50\n",
      "125/125 [==============================] - 42s 333ms/step - loss: 0.2629 - acc: 0.8900 - val_loss: 0.2580 - val_acc: 0.8860\n",
      "Epoch 35/50\n",
      "125/125 [==============================] - 42s 335ms/step - loss: 0.2604 - acc: 0.8925 - val_loss: 0.2194 - val_acc: 0.9180\n",
      "Epoch 36/50\n",
      "125/125 [==============================] - 42s 336ms/step - loss: 0.2567 - acc: 0.8975 - val_loss: 0.2351 - val_acc: 0.9093\n",
      "Epoch 37/50\n",
      "125/125 [==============================] - 42s 333ms/step - loss: 0.2734 - acc: 0.8900 - val_loss: 0.2355 - val_acc: 0.9171\n",
      "Epoch 38/50\n",
      "125/125 [==============================] - 42s 335ms/step - loss: 0.2441 - acc: 0.9020 - val_loss: 0.2526 - val_acc: 0.8938\n",
      "Epoch 39/50\n",
      "125/125 [==============================] - 42s 334ms/step - loss: 0.2759 - acc: 0.8883 - val_loss: 0.2278 - val_acc: 0.8860\n",
      "Epoch 40/50\n",
      "125/125 [==============================] - 42s 336ms/step - loss: 0.2531 - acc: 0.8950 - val_loss: 0.2423 - val_acc: 0.9119\n",
      "Epoch 41/50\n",
      "125/125 [==============================] - 41s 332ms/step - loss: 0.2657 - acc: 0.8950 - val_loss: 0.2607 - val_acc: 0.9080\n",
      "Epoch 42/50\n",
      "125/125 [==============================] - 42s 335ms/step - loss: 0.2571 - acc: 0.8970 - val_loss: 0.2340 - val_acc: 0.9089\n",
      "Epoch 43/50\n",
      "125/125 [==============================] - 42s 333ms/step - loss: 0.2711 - acc: 0.8910 - val_loss: 0.1850 - val_acc: 0.9275\n",
      "Epoch 44/50\n",
      "125/125 [==============================] - 39s 316ms/step - loss: 0.2695 - acc: 0.8913 - val_loss: 0.2140 - val_acc: 0.9158\n",
      "Epoch 45/50\n",
      "125/125 [==============================] - 41s 325ms/step - loss: 0.2630 - acc: 0.8955 - val_loss: 0.2417 - val_acc: 0.8990\n",
      "Epoch 46/50\n",
      "125/125 [==============================] - 41s 326ms/step - loss: 0.2656 - acc: 0.8900 - val_loss: 0.2391 - val_acc: 0.8744\n",
      "Epoch 47/50\n",
      "125/125 [==============================] - 40s 322ms/step - loss: 0.2585 - acc: 0.8910 - val_loss: 0.2673 - val_acc: 0.8860\n",
      "Epoch 48/50\n",
      "125/125 [==============================] - 41s 325ms/step - loss: 0.2587 - acc: 0.8970 - val_loss: 0.2028 - val_acc: 0.9132\n",
      "Epoch 49/50\n",
      "125/125 [==============================] - 41s 329ms/step - loss: 0.2498 - acc: 0.8888 - val_loss: 0.1882 - val_acc: 0.9167\n",
      "Epoch 50/50\n",
      "125/125 [==============================] - 41s 330ms/step - loss: 0.2625 - acc: 0.8935 - val_loss: 0.2745 - val_acc: 0.9003\n"
     ]
    },
    {
     "data": {
      "text/plain": [
       "<keras.callbacks.History at 0x102f3e810>"
      ]
     },
     "execution_count": 30,
     "metadata": {},
     "output_type": "execute_result"
    }
   ],
   "source": [
    "model.fit_generator(\n",
    "        train_generator,\n",
    "        steps_per_epoch=2000 // batch_size,\n",
    "        epochs=50,\n",
    "        validation_data=validation_generator,\n",
    "        validation_steps=800 // batch_size)"
   ]
  },
  {
   "cell_type": "code",
   "execution_count": null,
   "metadata": {},
   "outputs": [],
   "source": []
  }
 ],
 "metadata": {
  "kernelspec": {
   "display_name": "Python 3",
   "language": "python",
   "name": "python3"
  },
  "language_info": {
   "codemirror_mode": {
    "name": "ipython",
    "version": 3
   },
   "file_extension": ".py",
   "mimetype": "text/x-python",
   "name": "python",
   "nbconvert_exporter": "python",
   "pygments_lexer": "ipython3",
   "version": "3.7.4"
  }
 },
 "nbformat": 4,
 "nbformat_minor": 2
}
